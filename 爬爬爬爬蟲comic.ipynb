{
 "cells": [
  {
   "cell_type": "code",
   "execution_count": 1,
   "id": "091060ad",
   "metadata": {},
   "outputs": [],
   "source": [
    "import requests\n",
    "import bs4\n",
    "from selenium import webdriver\n",
    "import time\n",
    "from selenium.webdriver.common.by import By"
   ]
  },
  {
   "cell_type": "code",
   "execution_count": 22,
   "id": "5245052a",
   "metadata": {
    "scrolled": true
   },
   "outputs": [
    {
     "name": "stdout",
     "output_type": "stream",
     "text": [
      "//img8.8comic.com/7/16533/13/001_u9Q.jpg\n",
      "https://img8.8comic.com/7/16533/13/001_u9Q.jpg\n"
     ]
    }
   ],
   "source": [
    "url = 'https://a.twobili.com/online/new-16533.html?ch=13-1'\n",
    "\n",
    "driver = webdriver.Chrome('')\n",
    "driver.minimize_window()\n",
    "driver.get(url)\n",
    "soup = bs4.BeautifulSoup(driver.page_source, 'lxml')\n",
    "# print(soup.prettify())\n",
    "# .page_source 連接bs4與selenium 的關鍵\n",
    "\n",
    "# id = 'TheImg'\n",
    "imgurl = soup.select_one('#TheImg').get('src')\n",
    "print(imgurl)\n",
    "\n",
    "if imgurl.startswith('http'):\n",
    "    fimgurl = imgurl\n",
    "else:\n",
    "    fimgurl = 'https:' + imgurl\n",
    "print(finalurl)\n",
    "\n",
    "# r = requests.get(fimgurl)\n",
    "# with open('C:/Users/USER/Desktop/0626/爬蟲/a.jpg', 'wb') as f:\n",
    "#     f.write(r.content)\n",
    "# time.sleep(5)\n",
    "\n",
    "# id = 'next'\n",
    "nextpage = soup.select_one('#next')\n",
    "# nextpage.click()  # click() 老大是seleium , select 老大是bs4\n",
    "a = driver.find_element(By)\n",
    "# id = 'pagenum'\n",
    "# 利用'/'把 '1/4頁' 分成兩半 再將'頁'去掉 可取得總頁數\n",
    "pagenum = soup.select_one('#pagenum').text\n",
    "n = pagenum.split('/')\n",
    "n = eval(n[1].replace('頁', ''))\n",
    "\n",
    "driver.quit()"
   ]
  },
  {
   "cell_type": "code",
   "execution_count": 2,
   "id": "a97e0e0f",
   "metadata": {},
   "outputs": [],
   "source": [
    "driver = webdriver.Chrome('')\n",
    "url = 'https://a.twobili.com/online/new-16533.html?ch=13-{}'\n",
    "driver.get(url.format(1))\n",
    "\n",
    "soup = bs4.BeautifulSoup(driver.page_source, 'lxml')\n",
    "pagenum = soup.select_one('#pagenum').text"
   ]
  },
  {
   "cell_type": "code",
   "execution_count": 35,
   "id": "4ae51e68",
   "metadata": {},
   "outputs": [
    {
     "data": {
      "text/plain": [
       "<input class=\"btn btn-sm btn-secondary\" id=\"next\" onclick=\"jn();return false;\" type=\"button\" value=\"下 一 頁\"/>"
      ]
     },
     "execution_count": 35,
     "metadata": {},
     "output_type": "execute_result"
    }
   ],
   "source": [
    "nextpage"
   ]
  }
 ],
 "metadata": {
  "kernelspec": {
   "display_name": "Python 3 (ipykernel)",
   "language": "python",
   "name": "python3"
  },
  "language_info": {
   "codemirror_mode": {
    "name": "ipython",
    "version": 3
   },
   "file_extension": ".py",
   "mimetype": "text/x-python",
   "name": "python",
   "nbconvert_exporter": "python",
   "pygments_lexer": "ipython3",
   "version": "3.10.9"
  }
 },
 "nbformat": 4,
 "nbformat_minor": 5
}
