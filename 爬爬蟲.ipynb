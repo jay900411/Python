{
 "cells": [
  {
   "cell_type": "code",
   "execution_count": 2,
   "id": "b6909b9a",
   "metadata": {},
   "outputs": [
    {
     "name": "stdout",
     "output_type": "stream",
     "text": [
      "Note: you may need to restart the kernel to use updated packages.\n"
     ]
    },
    {
     "name": "stderr",
     "output_type": "stream",
     "text": [
      "ERROR: Invalid requirement: '#'\n"
     ]
    }
   ],
   "source": [
    "pip install selenium # 仿真人瀏覽"
   ]
  },
  {
   "cell_type": "code",
   "execution_count": 3,
   "id": "c7cf33a8",
   "metadata": {},
   "outputs": [],
   "source": [
    "from selenium import webdriver\n",
    "import time"
   ]
  },
  {
   "cell_type": "code",
   "execution_count": 1,
   "id": "5fea97c1",
   "metadata": {},
   "outputs": [
    {
     "ename": "NameError",
     "evalue": "name 'webdriver' is not defined",
     "output_type": "error",
     "traceback": [
      "\u001b[1;31m---------------------------------------------------------------------------\u001b[0m",
      "\u001b[1;31mNameError\u001b[0m                                 Traceback (most recent call last)",
      "Cell \u001b[1;32mIn[1], line 1\u001b[0m\n\u001b[1;32m----> 1\u001b[0m driver \u001b[38;5;241m=\u001b[39m \u001b[43mwebdriver\u001b[49m\u001b[38;5;241m.\u001b[39mChrome(\u001b[38;5;124m'\u001b[39m\u001b[38;5;124m'\u001b[39m)\n\u001b[0;32m      2\u001b[0m urls \u001b[38;5;241m=\u001b[39m [\u001b[38;5;124m'\u001b[39m\u001b[38;5;124mhttps://www.google.com\u001b[39m\u001b[38;5;124m'\u001b[39m,\n\u001b[0;32m      3\u001b[0m       \u001b[38;5;124m'\u001b[39m\u001b[38;5;124mhttps://www.yahoo.com.tw\u001b[39m\u001b[38;5;124m'\u001b[39m,\n\u001b[0;32m      4\u001b[0m       \u001b[38;5;124m'\u001b[39m\u001b[38;5;124mhttps://www.pchome.com.tw\u001b[39m\u001b[38;5;124m'\u001b[39m]\n\u001b[0;32m      5\u001b[0m \u001b[38;5;28;01mfor\u001b[39;00m url \u001b[38;5;129;01min\u001b[39;00m urls:\n",
      "\u001b[1;31mNameError\u001b[0m: name 'webdriver' is not defined"
     ]
    }
   ],
   "source": [
    "driver = webdriver.Chrome('')\n",
    "urls = ['https://www.google.com',\n",
    "      'https://www.yahoo.com.tw',\n",
    "      'https://www.pchome.com.tw']\n",
    "for url in urls:\n",
    "    driver.get(url)\n",
    "    time.sleep(5)\n",
    "    print(driver.title)"
   ]
  },
  {
   "cell_type": "code",
   "execution_count": 4,
   "id": "c6ae16b0",
   "metadata": {
    "collapsed": true
   },
   "outputs": [
    {
     "ename": "NoSuchWindowException",
     "evalue": "Message: no such window: target window already closed\nfrom unknown error: web view not found\n  (Session info: chrome=114.0.5735.199)\nStacktrace:\nBacktrace:\n\tGetHandleVerifier [0x007D6E73+48323]\n\t(No symbol) [0x00769661]\n\t(No symbol) [0x00675308]\n\t(No symbol) [0x0065D243]\n\t(No symbol) [0x006BE51B]\n\t(No symbol) [0x006CC613]\n\t(No symbol) [0x006BA6D6]\n\t(No symbol) [0x0069847C]\n\t(No symbol) [0x0069957D]\n\tGetHandleVerifier [0x00A3FD5D+2575277]\n\tGetHandleVerifier [0x00A7F86E+2836158]\n\tGetHandleVerifier [0x00A796DC+2811180]\n\tGetHandleVerifier [0x008641B0+626688]\n\t(No symbol) [0x0077314C]\n\t(No symbol) [0x0076F4B8]\n\t(No symbol) [0x0076F59B]\n\t(No symbol) [0x007621B7]\n\tBaseThreadInitThunk [0x76EFFA29+25]\n\tRtlGetAppContainerNamedObjectPath [0x77AA7A7E+286]\n\tRtlGetAppContainerNamedObjectPath [0x77AA7A4E+238]\n",
     "output_type": "error",
     "traceback": [
      "\u001b[1;31m---------------------------------------------------------------------------\u001b[0m",
      "\u001b[1;31mNoSuchWindowException\u001b[0m                     Traceback (most recent call last)",
      "Cell \u001b[1;32mIn[4], line 10\u001b[0m\n\u001b[0;32m      8\u001b[0m btn \u001b[38;5;241m=\u001b[39m driver\u001b[38;5;241m.\u001b[39mfind_element(By\u001b[38;5;241m.\u001b[39mNAME, \u001b[38;5;124m'\u001b[39m\u001b[38;5;124mbtnK\u001b[39m\u001b[38;5;124m'\u001b[39m)\n\u001b[0;32m      9\u001b[0m time\u001b[38;5;241m.\u001b[39msleep(\u001b[38;5;241m3\u001b[39m)\n\u001b[1;32m---> 10\u001b[0m \u001b[43mbtn\u001b[49m\u001b[38;5;241;43m.\u001b[39;49m\u001b[43mclick\u001b[49m\u001b[43m(\u001b[49m\u001b[43m)\u001b[49m\n\u001b[0;32m     11\u001b[0m time\u001b[38;5;241m.\u001b[39msleep(\u001b[38;5;241m6\u001b[39m)\n\u001b[0;32m     13\u001b[0m \u001b[38;5;66;03m#back to previous page\u001b[39;00m\n",
      "File \u001b[1;32mC:\\ProgramData\\anaconda3\\lib\\site-packages\\selenium\\webdriver\\remote\\webelement.py:94\u001b[0m, in \u001b[0;36mWebElement.click\u001b[1;34m(self)\u001b[0m\n\u001b[0;32m     92\u001b[0m \u001b[38;5;28;01mdef\u001b[39;00m \u001b[38;5;21mclick\u001b[39m(\u001b[38;5;28mself\u001b[39m) \u001b[38;5;241m-\u001b[39m\u001b[38;5;241m>\u001b[39m \u001b[38;5;28;01mNone\u001b[39;00m:\n\u001b[0;32m     93\u001b[0m     \u001b[38;5;124;03m\"\"\"Clicks the element.\"\"\"\u001b[39;00m\n\u001b[1;32m---> 94\u001b[0m     \u001b[38;5;28;43mself\u001b[39;49m\u001b[38;5;241;43m.\u001b[39;49m\u001b[43m_execute\u001b[49m\u001b[43m(\u001b[49m\u001b[43mCommand\u001b[49m\u001b[38;5;241;43m.\u001b[39;49m\u001b[43mCLICK_ELEMENT\u001b[49m\u001b[43m)\u001b[49m\n",
      "File \u001b[1;32mC:\\ProgramData\\anaconda3\\lib\\site-packages\\selenium\\webdriver\\remote\\webelement.py:395\u001b[0m, in \u001b[0;36mWebElement._execute\u001b[1;34m(self, command, params)\u001b[0m\n\u001b[0;32m    393\u001b[0m     params \u001b[38;5;241m=\u001b[39m {}\n\u001b[0;32m    394\u001b[0m params[\u001b[38;5;124m\"\u001b[39m\u001b[38;5;124mid\u001b[39m\u001b[38;5;124m\"\u001b[39m] \u001b[38;5;241m=\u001b[39m \u001b[38;5;28mself\u001b[39m\u001b[38;5;241m.\u001b[39m_id\n\u001b[1;32m--> 395\u001b[0m \u001b[38;5;28;01mreturn\u001b[39;00m \u001b[38;5;28;43mself\u001b[39;49m\u001b[38;5;241;43m.\u001b[39;49m\u001b[43m_parent\u001b[49m\u001b[38;5;241;43m.\u001b[39;49m\u001b[43mexecute\u001b[49m\u001b[43m(\u001b[49m\u001b[43mcommand\u001b[49m\u001b[43m,\u001b[49m\u001b[43m \u001b[49m\u001b[43mparams\u001b[49m\u001b[43m)\u001b[49m\n",
      "File \u001b[1;32mC:\\ProgramData\\anaconda3\\lib\\site-packages\\selenium\\webdriver\\remote\\webdriver.py:346\u001b[0m, in \u001b[0;36mWebDriver.execute\u001b[1;34m(self, driver_command, params)\u001b[0m\n\u001b[0;32m    344\u001b[0m response \u001b[38;5;241m=\u001b[39m \u001b[38;5;28mself\u001b[39m\u001b[38;5;241m.\u001b[39mcommand_executor\u001b[38;5;241m.\u001b[39mexecute(driver_command, params)\n\u001b[0;32m    345\u001b[0m \u001b[38;5;28;01mif\u001b[39;00m response:\n\u001b[1;32m--> 346\u001b[0m     \u001b[38;5;28;43mself\u001b[39;49m\u001b[38;5;241;43m.\u001b[39;49m\u001b[43merror_handler\u001b[49m\u001b[38;5;241;43m.\u001b[39;49m\u001b[43mcheck_response\u001b[49m\u001b[43m(\u001b[49m\u001b[43mresponse\u001b[49m\u001b[43m)\u001b[49m\n\u001b[0;32m    347\u001b[0m     response[\u001b[38;5;124m\"\u001b[39m\u001b[38;5;124mvalue\u001b[39m\u001b[38;5;124m\"\u001b[39m] \u001b[38;5;241m=\u001b[39m \u001b[38;5;28mself\u001b[39m\u001b[38;5;241m.\u001b[39m_unwrap_value(response\u001b[38;5;241m.\u001b[39mget(\u001b[38;5;124m\"\u001b[39m\u001b[38;5;124mvalue\u001b[39m\u001b[38;5;124m\"\u001b[39m, \u001b[38;5;28;01mNone\u001b[39;00m))\n\u001b[0;32m    348\u001b[0m     \u001b[38;5;28;01mreturn\u001b[39;00m response\n",
      "File \u001b[1;32mC:\\ProgramData\\anaconda3\\lib\\site-packages\\selenium\\webdriver\\remote\\errorhandler.py:245\u001b[0m, in \u001b[0;36mErrorHandler.check_response\u001b[1;34m(self, response)\u001b[0m\n\u001b[0;32m    243\u001b[0m         alert_text \u001b[38;5;241m=\u001b[39m value[\u001b[38;5;124m\"\u001b[39m\u001b[38;5;124malert\u001b[39m\u001b[38;5;124m\"\u001b[39m]\u001b[38;5;241m.\u001b[39mget(\u001b[38;5;124m\"\u001b[39m\u001b[38;5;124mtext\u001b[39m\u001b[38;5;124m\"\u001b[39m)\n\u001b[0;32m    244\u001b[0m     \u001b[38;5;28;01mraise\u001b[39;00m exception_class(message, screen, stacktrace, alert_text)  \u001b[38;5;66;03m# type: ignore[call-arg]  # mypy is not smart enough here\u001b[39;00m\n\u001b[1;32m--> 245\u001b[0m \u001b[38;5;28;01mraise\u001b[39;00m exception_class(message, screen, stacktrace)\n",
      "\u001b[1;31mNoSuchWindowException\u001b[0m: Message: no such window: target window already closed\nfrom unknown error: web view not found\n  (Session info: chrome=114.0.5735.199)\nStacktrace:\nBacktrace:\n\tGetHandleVerifier [0x007D6E73+48323]\n\t(No symbol) [0x00769661]\n\t(No symbol) [0x00675308]\n\t(No symbol) [0x0065D243]\n\t(No symbol) [0x006BE51B]\n\t(No symbol) [0x006CC613]\n\t(No symbol) [0x006BA6D6]\n\t(No symbol) [0x0069847C]\n\t(No symbol) [0x0069957D]\n\tGetHandleVerifier [0x00A3FD5D+2575277]\n\tGetHandleVerifier [0x00A7F86E+2836158]\n\tGetHandleVerifier [0x00A796DC+2811180]\n\tGetHandleVerifier [0x008641B0+626688]\n\t(No symbol) [0x0077314C]\n\t(No symbol) [0x0076F4B8]\n\t(No symbol) [0x0076F59B]\n\t(No symbol) [0x007621B7]\n\tBaseThreadInitThunk [0x76EFFA29+25]\n\tRtlGetAppContainerNamedObjectPath [0x77AA7A7E+286]\n\tRtlGetAppContainerNamedObjectPath [0x77AA7A4E+238]\n"
     ]
    }
   ],
   "source": [
    "from selenium.webdriver.common.by import By\n",
    "driver = webdriver.Chrome('')\n",
    "url = 'https://www.google.com'\n",
    "\n",
    "driver.get(url)\n",
    "search = driver.find_element(By.NAME, 'q') # 大寫\n",
    "search.send_keys('今天會下雨嗎???')\n",
    "btn = driver.find_element(By.NAME, 'btnK')\n",
    "time.sleep(3)\n",
    "btn.click()\n",
    "time.sleep(6)\n",
    "\n",
    "#back to previous page\n",
    "driver.back()\n",
    "# close the page\n",
    "time.sleep(2)\n",
    "driver.quit()"
   ]
  },
  {
   "cell_type": "markdown",
   "id": "2079add9",
   "metadata": {},
   "source": [
    "## 台灣高鐵\n"
   ]
  },
  {
   "cell_type": "code",
   "execution_count": 5,
   "id": "8e9281ce",
   "metadata": {},
   "outputs": [],
   "source": [
    "import tkinter as tk\n",
    "import pandas as pd\n",
    "import bs4\n",
    "def scrapy_thsrc():\n",
    "    driver = webdriver.Chrome('')\n",
    "#     driver.implicitly_wait(10) # 設定緩衝時間\n",
    "    url = 'https://www.thsrc.com.tw'\n",
    "    driver.get(url)\n",
    "    print(driver.title)\n",
    "    \n",
    "    btn = driver.find_element(By.CLASS_NAME, 'swal2-confirm')\n",
    "    btn.click()\n",
    "    # class = swal2-confirm swal2-styled\n",
    "    # class = swal2-cancel swal2-styled\n",
    "    driver.maximize_window() # 畫面最大化\n",
    "\n",
    "    # 尋找站名\n",
    "    select = driver.find_element(By.TAG_NAME ,'select' )\n",
    "    start = select.find_elements(By.TAG_NAME, 'option')\n",
    "#     start[start_station_var.get()].click()\n",
    "    start[convert_value1].click()\n",
    "    print('起點站:', start[convert_value1].text)\n",
    "#     print('起點站:', start[start_station_var.get()].text)\n",
    "\n",
    "    select2 = driver.find_element(By.ID ,'select_location02' )\n",
    "    end = select2.find_elements(By.TAG_NAME, 'option')\n",
    "#     end[end_station_var.get()].click()\n",
    "    end[convert_value2].click()\n",
    "#     print('終點站:', end[end_station_var.get()].text)\n",
    "    print('終點站:', end[convert_value2].text)\n",
    "    # id = select_location01\n",
    "    # id = select_location02\n",
    "    time.sleep(1)\n",
    "\n",
    "    # search = driver.find_element(By.ID ,'start-search' )\n",
    "    # search.click()\n",
    "    search = driver.find_element(By.CLASS_NAME ,'btn-orange' )\n",
    "#     print('查詢中...')\n",
    "    search.click()\n",
    "    time.sleep(5)\n",
    "#     print('查詢完成')\n",
    "\n",
    "    soup = bs4.BeautifulSoup(driver.page_source, 'lxml') # 透過pagesource連結 selenium 與 bs\n",
    "    ticket = soup.find_all('div', class_ = 'tr-td train')\n",
    "    timeas = soup.find_all('span', class_ = 'font-16r darkgray')\n",
    "    print('查詢時間最近的:', int(len(timeas)/2), '班車') # 看一下有幾個時間值\n",
    "\n",
    "    i = 0\n",
    "#     print('今天0628', '可以搭的車次是')\n",
    "    tlist = []\n",
    "    for t in ticket:\n",
    "        nlist = []\n",
    "#         print('車次', t.text.strip(), '開車時間:', timeas[i].text.strip(), '到達時間:', timeas[i+1].text.strip())\n",
    "        nlist.append(t.text.strip())\n",
    "        nlist.append(timeas[i].text.strip())\n",
    "        nlist.append(timeas[i+1].text.strip())\n",
    "        i += 2\n",
    "        tlist.append(nlist)\n",
    "    global df\n",
    "    df = pd.DataFrame(tlist, columns = ['車次', '開車時間', '到達時間'])\n",
    "    df.index += 1\n",
    "    \n",
    "    result_text.delete(1.0, tk.END)\n",
    "    result_text.insert(tk.END, df.to_string(index = True))\n",
    "# class = btn btn-orange btn-full inlineM mt-3\n",
    "# id = start-search"
   ]
  },
  {
   "cell_type": "code",
   "execution_count": 140,
   "id": "eb08fcb5",
   "metadata": {},
   "outputs": [],
   "source": [
    "# .strip() 去掉空格  \n",
    "\n",
    "# for i in range(len(timeas)):\n",
    "#     if i % 2 == 0:\n",
    "#         print(timeas[i].text , end = '--')\n",
    "#     elif i % 2 == 1:\n",
    "#         print(timeas[i].text)\n",
    "            "
   ]
  },
  {
   "cell_type": "code",
   "execution_count": 265,
   "id": "336ec24b",
   "metadata": {},
   "outputs": [
    {
     "name": "stdout",
     "output_type": "stream",
     "text": [
      "台灣高鐵Taiwan High Speed Rail\n",
      "起點站: 台北\n",
      "終點站: 雲林\n",
      "查詢時間最近的: 0 班車\n"
     ]
    }
   ],
   "source": [
    "#################\n",
    "# 建立視窗\n",
    "window = tk.Tk()\n",
    "window.title('高鐵查詢程式')\n",
    "\n",
    "font = ('微軟正黑體', 15)\n",
    "# 建立起點查詢標籤\n",
    "start_label = tk.Label(window, text = '起點站')\n",
    "start_label.pack()\n",
    "\n",
    "# 建立初始值標籤\n",
    "# start_station_var = tk.IntVar()\n",
    "start_station_var = tk.StringVar()\n",
    "start_station_var.set(start_station_option[0]) # 設定初始值\n",
    "\n",
    "def option_change1(event):\n",
    "    global convert_value1\n",
    "    convert_value1 = option_list.index(start_station_var.get())\n",
    "\n",
    "def option_change2(event):\n",
    "    global convert_value2\n",
    "    convert_value2 = option_list.index(end_station_var.get())\n",
    "    \n",
    "# 下拉式選單\n",
    "# start_station_options = ['0', '1', '2', '3', '4', '5', '6', '7', '8', '9', '10', '11']\n",
    "station_option = ['南港', '台北', '板橋', '桃園', '新竹', '苗栗', '台中', '彰化', '雲林', '嘉義', '台南', '左營']\n",
    "# start_station_entry = tk.Entry(window, textvariable = start_station_var, font = font)\n",
    "start_station_dropdown = tk.OptionMenu(window, start_station_var, *station_option, command = option_change1)\n",
    "# start_station_entry.pack()\n",
    "start_station_dropdown.config(width = 10)\n",
    "start_station_dropdown.pack()\n",
    "\n",
    "# 建立終點查詢標籤\n",
    "end_label = tk.Label(window, text = '終點站')\n",
    "end_label.pack()\n",
    "\n",
    "# 建立初始值標籤\n",
    "end_station_var = tk.StringVar()\n",
    "# end_station_var = tk.IntVar()\n",
    "end_station_var.set(start_station_option[0]) # 設定初始值\n",
    "\n",
    "# 下拉式選單\n",
    "# end_station_options = ['0', '1', '2', '3', '4', '5', '6', '7', '8', '9', '10', '11']\n",
    "\n",
    "# end_station_entry = tk.Entry(window, textvariable = end_station_var, font = font)\n",
    "end_station_dropdown = tk.OptionMenu(window, end_station_var, *station_option, command = option_change2)\n",
    "# end_station_entry.pack()\n",
    "end_station_dropdown.config(width = 10)\n",
    "end_station_dropdown.pack()\n",
    "\n",
    "scrapy_button = tk.Button(window, text = '開始查時刻表', command = scrapy_thsrc)\n",
    "scrapy_button.pack()\n",
    "\n",
    "result_text = tk.Text(window, font = font, width = 30)\n",
    "result_text.pack()\n",
    "\n",
    "window.mainloop()\n"
   ]
  },
  {
   "cell_type": "code",
   "execution_count": 247,
   "id": "852a7e36",
   "metadata": {},
   "outputs": [
    {
     "name": "stdout",
     "output_type": "stream",
     "text": [
      "選擇的站名為:板橋, 轉換後的數字:2\n",
      "選擇的站名為:南港, 轉換後的數字:0\n",
      "選擇的站名為:桃園, 轉換後的數字:3\n",
      "選擇的站名為:雲林, 轉換後的數字:8\n"
     ]
    }
   ],
   "source": [
    "def option_change(event):\n",
    "    selected_option = option_menu.get()\n",
    "    convert_value = option_list.index(selected_option)\n",
    "    \n",
    "    print(f'選擇的站名為:{selected_option}, 轉換後的數字:{convert_value}')\n",
    "    \n",
    "window = tk.Tk()\n",
    "option_list = ['南港', '台北', '板橋','桃園', '新竹', '苗栗',\n",
    "               '台中', '彰化', '雲林', '嘉義', '台南', '左營']\n",
    "option_menu = tk.StringVar()\n",
    "option_menu.set(option_list[0])\n",
    "\n",
    "op = tk.OptionMenu(window, option_menu, *option_list, command = option_change)\n",
    "op.pack()\n",
    "\n",
    "window.mainloop()"
   ]
  },
  {
   "cell_type": "markdown",
   "id": "0dbc12a2",
   "metadata": {},
   "source": [
    "## 台鐵便當"
   ]
  },
  {
   "cell_type": "code",
   "execution_count": 294,
   "id": "bfffc7a5",
   "metadata": {},
   "outputs": [
    {
     "name": "stdout",
     "output_type": "stream",
     "text": [
      "\u001b[32m便當名稱:\u001b[0m \u001b[31m排骨便當(圓紙)\u001b[0m   \u001b[35m便當價格:\u001b[0m \u001b[34m80\u001b[0m\n",
      "==================================================\n",
      "\u001b[32m便當名稱:\u001b[0m \u001b[31m排骨便當(列車上供應)\u001b[0m   \u001b[35m便當價格:\u001b[0m \u001b[34m80\u001b[0m\n",
      "==================================================\n",
      "\u001b[32m便當名稱:\u001b[0m \u001b[31m素食便當(圓紙)\u001b[0m   \u001b[35m便當價格:\u001b[0m \u001b[34m80\u001b[0m\n",
      "==================================================\n",
      "\u001b[32m便當名稱:\u001b[0m \u001b[31m素食便當(列車上供應)\u001b[0m   \u001b[35m便當價格:\u001b[0m \u001b[34m80\u001b[0m\n",
      "==================================================\n",
      "\u001b[32m便當名稱:\u001b[0m \u001b[31m排骨便當(經濟)\u001b[0m   \u001b[35m便當價格:\u001b[0m \u001b[34m60\u001b[0m\n",
      "==================================================\n",
      "\u001b[32m便當名稱:\u001b[0m \u001b[31m雞腿便當(圓紙)\u001b[0m   \u001b[35m便當價格:\u001b[0m \u001b[34m100\u001b[0m\n",
      "==================================================\n",
      "\u001b[32m便當名稱:\u001b[0m \u001b[31m懷舊排骨菜飯\u001b[0m   \u001b[35m便當價格:\u001b[0m \u001b[34m100\u001b[0m\n",
      "==================================================\n",
      "\u001b[32m便當名稱:\u001b[0m \u001b[31m紹興雞腿排便當\u001b[0m   \u001b[35m便當價格:\u001b[0m \u001b[34m100\u001b[0m\n",
      "==================================================\n",
      "\u001b[32m便當名稱:\u001b[0m \u001b[31m福圓便當\u001b[0m   \u001b[35m便當價格:\u001b[0m \u001b[34m100\u001b[0m\n",
      "==================================================\n",
      "\u001b[32m便當名稱:\u001b[0m \u001b[31m醬燒雞丁便當\u001b[0m   \u001b[35m便當價格:\u001b[0m \u001b[34m100\u001b[0m\n",
      "==================================================\n",
      "\u001b[32m便當名稱:\u001b[0m \u001b[31m排骨經典便當\u001b[0m   \u001b[35m便當價格:\u001b[0m \u001b[34m100\u001b[0m\n",
      "==================================================\n",
      "\u001b[32m便當名稱:\u001b[0m \u001b[31m植物肉蔬食便當(蛋素)\u001b[0m   \u001b[35m便當價格:\u001b[0m \u001b[34m100\u001b[0m\n",
      "==================================================\n"
     ]
    }
   ],
   "source": [
    "url = 'https://www.railway.gov.tw/tra-tip-web/tip/tip004/tip421/dishes'\n",
    "import requests\n",
    "re = requests.get(url)\n",
    "soup = bs4.BeautifulSoup(re.text, 'lxml')\n",
    "\n",
    "list1 = soup.find('ul', class_ = 'shop-item row')\n",
    "# print(list1.prettify())\n",
    "\n",
    "items = list1.find_all('li')\n",
    "\n",
    "for item in items:\n",
    "    title = item.find('div', class_ = 'pro-title')\n",
    "    print('\\033[32m' + '便當名稱:' + '\\033[0m' ,\n",
    "          '\\033[31m' + title.text + '\\033[0m', end = ' '*3)\n",
    "    price = item.find('strong')\n",
    "    print('\\033[35m' + '便當價格:' + '\\033[0m' ,\n",
    "          '\\033[34m' + price.text + '\\033[0m')\n",
    "    print('='*50)"
   ]
  },
  {
   "cell_type": "code",
   "execution_count": 277,
   "id": "0dfb0507",
   "metadata": {},
   "outputs": [
    {
     "name": "stdout",
     "output_type": "stream",
     "text": [
      "\u001b[31mHello, world!\u001b[0m\n",
      "\u001b[32mHello, world!\u001b[0m\n",
      "\u001b[34mHello, world!\u001b[0m\n"
     ]
    }
   ],
   "source": [
    "def print_colored_text(text, color_code):\n",
    "    print(color_code + text + '\\033[0m')\n",
    "\n",
    "# 示例用法\n",
    "print_colored_text('Hello, world!', '\\033[31m')  # 红色文本\n",
    "print_colored_text('Hello, world!', '\\033[32m')  # 绿色文本\n",
    "print_colored_text('Hello, world!', '\\033[34m')  # 蓝色文本"
   ]
  },
  {
   "cell_type": "code",
   "execution_count": 292,
   "id": "09c282ee",
   "metadata": {},
   "outputs": [
    {
     "name": "stdout",
     "output_type": "stream",
     "text": [
      "\u001b[30mHello, world!\u001b[0m\n",
      "\u001b[31mHello, world!\u001b[0m\n",
      "\u001b[32mHello, world!\u001b[0m\n",
      "\u001b[33mHello, world!\u001b[0m\n",
      "\u001b[34mHello, world!\u001b[0m\n",
      "\u001b[35mHello, world!\u001b[0m\n",
      "\u001b[36mHello, world!\u001b[0m\n"
     ]
    }
   ],
   "source": [
    "print('\\033[30m' + 'Hello, world!' + '\\033[0m')\n",
    "print('\\033[31m' + 'Hello, world!' + '\\033[0m')\n",
    "print('\\033[32m' + 'Hello, world!' + '\\033[0m')\n",
    "print('\\033[33m' + 'Hello, world!' + '\\033[0m')\n",
    "print('\\033[34m' + 'Hello, world!' + '\\033[0m')\n",
    "print('\\033[35m' + 'Hello, world!' + '\\033[0m')\n",
    "print('\\033[36m' + 'Hello, world!' + '\\033[0m')"
   ]
  }
 ],
 "metadata": {
  "kernelspec": {
   "display_name": "Python 3 (ipykernel)",
   "language": "python",
   "name": "python3"
  },
  "language_info": {
   "codemirror_mode": {
    "name": "ipython",
    "version": 3
   },
   "file_extension": ".py",
   "mimetype": "text/x-python",
   "name": "python",
   "nbconvert_exporter": "python",
   "pygments_lexer": "ipython3",
   "version": "3.10.9"
  }
 },
 "nbformat": 4,
 "nbformat_minor": 5
}
